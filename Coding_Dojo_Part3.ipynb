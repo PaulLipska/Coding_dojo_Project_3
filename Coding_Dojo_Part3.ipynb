{
 "cells": [
  {
   "cell_type": "markdown",
   "id": "7866e3f4",
   "metadata": {},
   "source": [
    "# IMDB Investigation"
   ]
  },
  {
   "cell_type": "markdown",
   "id": "e9c1e748",
   "metadata": {},
   "source": [
    "### Import Library"
   ]
  },
  {
   "cell_type": "code",
   "execution_count": 5,
   "id": "6f6f8cd1",
   "metadata": {},
   "outputs": [],
   "source": [
    "# import\n",
    "import numpy as np\n",
    "import pandas as pd\n"
   ]
  },
  {
   "cell_type": "markdown",
   "id": "7b8bdb8e",
   "metadata": {},
   "source": [
    "### Import Data"
   ]
  },
  {
   "cell_type": "code",
   "execution_count": 6,
   "id": "d3c54cdf",
   "metadata": {},
   "outputs": [],
   "source": [
    "basics_url='https://datasets.imdbws.com/title.basics.tsv.gz'\n",
    "akas_url='https://datasets.imdbws.com/title.akas.tsv.gz'\n",
    "ratings_url='https://datasets.imdbws.com/title.ratings.tsv.gz'\n",
    "\n",
    "basics = pd.read_csv(\"Data/title_basics.csv.gz\", low_memory=False)\n",
    "akas = pd.read_csv(\"Data/title_akas.csv.gz\",  low_memory=False)\n",
    "ratings = pd.read_csv(\"Data/title_ratings.csv.gz\", low_memory=False)"
   ]
  },
  {
   "cell_type": "markdown",
   "id": "e7bb724b",
   "metadata": {},
   "source": [
    "### Saving to file"
   ]
  },
  {
   "cell_type": "code",
   "execution_count": 7,
   "id": "23fb3b71",
   "metadata": {},
   "outputs": [],
   "source": [
    "basics.to_csv(\"Data/title_basics.csv.gz\",compression='gzip',index=False)\n",
    "akas.to_csv(\"Data/title_akas.csv.gz\",compression='gzip',index=False)\n",
    "ratings.to_csv(\"Data/title_ratings.csv.gz\",compression='gzip',index=False)"
   ]
  },
  {
   "cell_type": "markdown",
   "id": "e5f76748",
   "metadata": {},
   "source": [
    "### Review Dataframes"
   ]
  },
  {
   "cell_type": "code",
   "execution_count": 8,
   "id": "e01feb55",
   "metadata": {
    "scrolled": true
   },
   "outputs": [
    {
     "data": {
      "text/html": [
       "<div>\n",
       "<style scoped>\n",
       "    .dataframe tbody tr th:only-of-type {\n",
       "        vertical-align: middle;\n",
       "    }\n",
       "\n",
       "    .dataframe tbody tr th {\n",
       "        vertical-align: top;\n",
       "    }\n",
       "\n",
       "    .dataframe thead th {\n",
       "        text-align: right;\n",
       "    }\n",
       "</style>\n",
       "<table border=\"1\" class=\"dataframe\">\n",
       "  <thead>\n",
       "    <tr style=\"text-align: right;\">\n",
       "      <th></th>\n",
       "      <th>tconst</th>\n",
       "      <th>titleType</th>\n",
       "      <th>primaryTitle</th>\n",
       "      <th>originalTitle</th>\n",
       "      <th>isAdult</th>\n",
       "      <th>startYear</th>\n",
       "      <th>endYear</th>\n",
       "      <th>runtimeMinutes</th>\n",
       "      <th>genres</th>\n",
       "    </tr>\n",
       "  </thead>\n",
       "  <tbody>\n",
       "    <tr>\n",
       "      <th>0</th>\n",
       "      <td>tt0000001</td>\n",
       "      <td>short</td>\n",
       "      <td>Carmencita</td>\n",
       "      <td>Carmencita</td>\n",
       "      <td>0</td>\n",
       "      <td>1894</td>\n",
       "      <td>\\N</td>\n",
       "      <td>1</td>\n",
       "      <td>Documentary,Short</td>\n",
       "    </tr>\n",
       "    <tr>\n",
       "      <th>1</th>\n",
       "      <td>tt0000002</td>\n",
       "      <td>short</td>\n",
       "      <td>Le clown et ses chiens</td>\n",
       "      <td>Le clown et ses chiens</td>\n",
       "      <td>0</td>\n",
       "      <td>1892</td>\n",
       "      <td>\\N</td>\n",
       "      <td>5</td>\n",
       "      <td>Animation,Short</td>\n",
       "    </tr>\n",
       "    <tr>\n",
       "      <th>2</th>\n",
       "      <td>tt0000003</td>\n",
       "      <td>short</td>\n",
       "      <td>Pauvre Pierrot</td>\n",
       "      <td>Pauvre Pierrot</td>\n",
       "      <td>0</td>\n",
       "      <td>1892</td>\n",
       "      <td>\\N</td>\n",
       "      <td>4</td>\n",
       "      <td>Animation,Comedy,Romance</td>\n",
       "    </tr>\n",
       "    <tr>\n",
       "      <th>3</th>\n",
       "      <td>tt0000004</td>\n",
       "      <td>short</td>\n",
       "      <td>Un bon bock</td>\n",
       "      <td>Un bon bock</td>\n",
       "      <td>0</td>\n",
       "      <td>1892</td>\n",
       "      <td>\\N</td>\n",
       "      <td>12</td>\n",
       "      <td>Animation,Short</td>\n",
       "    </tr>\n",
       "    <tr>\n",
       "      <th>4</th>\n",
       "      <td>tt0000005</td>\n",
       "      <td>short</td>\n",
       "      <td>Blacksmith Scene</td>\n",
       "      <td>Blacksmith Scene</td>\n",
       "      <td>0</td>\n",
       "      <td>1893</td>\n",
       "      <td>\\N</td>\n",
       "      <td>1</td>\n",
       "      <td>Comedy,Short</td>\n",
       "    </tr>\n",
       "  </tbody>\n",
       "</table>\n",
       "</div>"
      ],
      "text/plain": [
       "      tconst titleType            primaryTitle           originalTitle  \\\n",
       "0  tt0000001     short              Carmencita              Carmencita   \n",
       "1  tt0000002     short  Le clown et ses chiens  Le clown et ses chiens   \n",
       "2  tt0000003     short          Pauvre Pierrot          Pauvre Pierrot   \n",
       "3  tt0000004     short             Un bon bock             Un bon bock   \n",
       "4  tt0000005     short        Blacksmith Scene        Blacksmith Scene   \n",
       "\n",
       "  isAdult startYear endYear runtimeMinutes                    genres  \n",
       "0       0      1894      \\N              1         Documentary,Short  \n",
       "1       0      1892      \\N              5           Animation,Short  \n",
       "2       0      1892      \\N              4  Animation,Comedy,Romance  \n",
       "3       0      1892      \\N             12           Animation,Short  \n",
       "4       0      1893      \\N              1              Comedy,Short  "
      ]
     },
     "execution_count": 8,
     "metadata": {},
     "output_type": "execute_result"
    }
   ],
   "source": [
    "basics.head()"
   ]
  },
  {
   "cell_type": "code",
   "execution_count": 9,
   "id": "5ad4ead7",
   "metadata": {},
   "outputs": [],
   "source": [
    "#creating backup of 'basics' dataframe\n",
    "df_b_save = basics.copy()"
   ]
  },
  {
   "cell_type": "code",
   "execution_count": 10,
   "id": "d7fbc557",
   "metadata": {
    "scrolled": false
   },
   "outputs": [
    {
     "data": {
      "text/html": [
       "<div>\n",
       "<style scoped>\n",
       "    .dataframe tbody tr th:only-of-type {\n",
       "        vertical-align: middle;\n",
       "    }\n",
       "\n",
       "    .dataframe tbody tr th {\n",
       "        vertical-align: top;\n",
       "    }\n",
       "\n",
       "    .dataframe thead th {\n",
       "        text-align: right;\n",
       "    }\n",
       "</style>\n",
       "<table border=\"1\" class=\"dataframe\">\n",
       "  <thead>\n",
       "    <tr style=\"text-align: right;\">\n",
       "      <th></th>\n",
       "      <th>titleId</th>\n",
       "      <th>ordering</th>\n",
       "      <th>title</th>\n",
       "      <th>region</th>\n",
       "      <th>language</th>\n",
       "      <th>types</th>\n",
       "      <th>attributes</th>\n",
       "      <th>isOriginalTitle</th>\n",
       "    </tr>\n",
       "  </thead>\n",
       "  <tbody>\n",
       "    <tr>\n",
       "      <th>0</th>\n",
       "      <td>tt0000001</td>\n",
       "      <td>1</td>\n",
       "      <td>Карменсіта</td>\n",
       "      <td>UA</td>\n",
       "      <td>\\N</td>\n",
       "      <td>imdbDisplay</td>\n",
       "      <td>\\N</td>\n",
       "      <td>0</td>\n",
       "    </tr>\n",
       "    <tr>\n",
       "      <th>1</th>\n",
       "      <td>tt0000001</td>\n",
       "      <td>2</td>\n",
       "      <td>Carmencita</td>\n",
       "      <td>DE</td>\n",
       "      <td>\\N</td>\n",
       "      <td>\\N</td>\n",
       "      <td>literal title</td>\n",
       "      <td>0</td>\n",
       "    </tr>\n",
       "    <tr>\n",
       "      <th>2</th>\n",
       "      <td>tt0000001</td>\n",
       "      <td>3</td>\n",
       "      <td>Carmencita - spanyol tánc</td>\n",
       "      <td>HU</td>\n",
       "      <td>\\N</td>\n",
       "      <td>imdbDisplay</td>\n",
       "      <td>\\N</td>\n",
       "      <td>0</td>\n",
       "    </tr>\n",
       "    <tr>\n",
       "      <th>3</th>\n",
       "      <td>tt0000001</td>\n",
       "      <td>4</td>\n",
       "      <td>Καρμενσίτα</td>\n",
       "      <td>GR</td>\n",
       "      <td>\\N</td>\n",
       "      <td>imdbDisplay</td>\n",
       "      <td>\\N</td>\n",
       "      <td>0</td>\n",
       "    </tr>\n",
       "    <tr>\n",
       "      <th>4</th>\n",
       "      <td>tt0000001</td>\n",
       "      <td>5</td>\n",
       "      <td>Карменсита</td>\n",
       "      <td>RU</td>\n",
       "      <td>\\N</td>\n",
       "      <td>imdbDisplay</td>\n",
       "      <td>\\N</td>\n",
       "      <td>0</td>\n",
       "    </tr>\n",
       "  </tbody>\n",
       "</table>\n",
       "</div>"
      ],
      "text/plain": [
       "     titleId  ordering                      title region language  \\\n",
       "0  tt0000001         1                 Карменсіта     UA       \\N   \n",
       "1  tt0000001         2                 Carmencita     DE       \\N   \n",
       "2  tt0000001         3  Carmencita - spanyol tánc     HU       \\N   \n",
       "3  tt0000001         4                 Καρμενσίτα     GR       \\N   \n",
       "4  tt0000001         5                 Карменсита     RU       \\N   \n",
       "\n",
       "         types     attributes isOriginalTitle  \n",
       "0  imdbDisplay             \\N               0  \n",
       "1           \\N  literal title               0  \n",
       "2  imdbDisplay             \\N               0  \n",
       "3  imdbDisplay             \\N               0  \n",
       "4  imdbDisplay             \\N               0  "
      ]
     },
     "execution_count": 10,
     "metadata": {},
     "output_type": "execute_result"
    }
   ],
   "source": [
    "akas.head()"
   ]
  },
  {
   "cell_type": "code",
   "execution_count": 11,
   "id": "095d7c6a",
   "metadata": {},
   "outputs": [],
   "source": [
    "df_a_save = akas.copy()"
   ]
  },
  {
   "cell_type": "code",
   "execution_count": 12,
   "id": "84448b12",
   "metadata": {
    "scrolled": true
   },
   "outputs": [
    {
     "data": {
      "text/html": [
       "<div>\n",
       "<style scoped>\n",
       "    .dataframe tbody tr th:only-of-type {\n",
       "        vertical-align: middle;\n",
       "    }\n",
       "\n",
       "    .dataframe tbody tr th {\n",
       "        vertical-align: top;\n",
       "    }\n",
       "\n",
       "    .dataframe thead th {\n",
       "        text-align: right;\n",
       "    }\n",
       "</style>\n",
       "<table border=\"1\" class=\"dataframe\">\n",
       "  <thead>\n",
       "    <tr style=\"text-align: right;\">\n",
       "      <th></th>\n",
       "      <th>tconst</th>\n",
       "      <th>averageRating</th>\n",
       "      <th>numVotes</th>\n",
       "    </tr>\n",
       "  </thead>\n",
       "  <tbody>\n",
       "    <tr>\n",
       "      <th>0</th>\n",
       "      <td>tt0000001</td>\n",
       "      <td>5.7</td>\n",
       "      <td>1977</td>\n",
       "    </tr>\n",
       "    <tr>\n",
       "      <th>1</th>\n",
       "      <td>tt0000002</td>\n",
       "      <td>5.8</td>\n",
       "      <td>264</td>\n",
       "    </tr>\n",
       "    <tr>\n",
       "      <th>2</th>\n",
       "      <td>tt0000003</td>\n",
       "      <td>6.5</td>\n",
       "      <td>1829</td>\n",
       "    </tr>\n",
       "    <tr>\n",
       "      <th>3</th>\n",
       "      <td>tt0000004</td>\n",
       "      <td>5.6</td>\n",
       "      <td>179</td>\n",
       "    </tr>\n",
       "    <tr>\n",
       "      <th>4</th>\n",
       "      <td>tt0000005</td>\n",
       "      <td>6.2</td>\n",
       "      <td>2620</td>\n",
       "    </tr>\n",
       "  </tbody>\n",
       "</table>\n",
       "</div>"
      ],
      "text/plain": [
       "      tconst  averageRating  numVotes\n",
       "0  tt0000001            5.7      1977\n",
       "1  tt0000002            5.8       264\n",
       "2  tt0000003            6.5      1829\n",
       "3  tt0000004            5.6       179\n",
       "4  tt0000005            6.2      2620"
      ]
     },
     "execution_count": 12,
     "metadata": {},
     "output_type": "execute_result"
    }
   ],
   "source": [
    "ratings.head()"
   ]
  },
  {
   "cell_type": "code",
   "execution_count": 13,
   "id": "72e6c028",
   "metadata": {},
   "outputs": [],
   "source": [
    "df_r_save = ratings.copy()"
   ]
  },
  {
   "cell_type": "markdown",
   "id": "b7a5b5e8",
   "metadata": {},
   "source": [
    "### Preprocessing Cleanup"
   ]
  },
  {
   "cell_type": "markdown",
   "id": "6e572b17",
   "metadata": {},
   "source": [
    "#### title.basics"
   ]
  },
  {
   "cell_type": "markdown",
   "id": "5a82114c",
   "metadata": {},
   "source": [
    "##### Find NAN Values"
   ]
  },
  {
   "cell_type": "code",
   "execution_count": 14,
   "id": "0a91d61b",
   "metadata": {
    "scrolled": true
   },
   "outputs": [],
   "source": [
    "basics = basics.replace({'\\\\N':np.nan})"
   ]
  },
  {
   "cell_type": "markdown",
   "id": "b8d02c11",
   "metadata": {},
   "source": [
    "##### Evaluating NAN values in columns"
   ]
  },
  {
   "cell_type": "code",
   "execution_count": 15,
   "id": "b741e688",
   "metadata": {},
   "outputs": [
    {
     "data": {
      "text/plain": [
       "tconst                  0\n",
       "titleType               0\n",
       "primaryTitle           11\n",
       "originalTitle          11\n",
       "isAdult                 1\n",
       "startYear         1335463\n",
       "endYear           9792973\n",
       "runtimeMinutes    6975078\n",
       "genres             444872\n",
       "dtype: int64"
      ]
     },
     "execution_count": 15,
     "metadata": {},
     "output_type": "execute_result"
    }
   ],
   "source": [
    "basics.isna().sum()"
   ]
  },
  {
   "cell_type": "code",
   "execution_count": 16,
   "id": "cd027a6e",
   "metadata": {},
   "outputs": [
    {
     "name": "stdout",
     "output_type": "stream",
     "text": [
      "tconst             0.000000\n",
      "titleType          0.000000\n",
      "primaryTitle       0.000111\n",
      "originalTitle      0.000111\n",
      "isAdult            0.000010\n",
      "startYear         13.488905\n",
      "endYear           98.914373\n",
      "runtimeMinutes    70.452095\n",
      "genres             4.493450\n",
      "dtype: float64\n"
     ]
    }
   ],
   "source": [
    "#Display the percentage of missing values by row. \n",
    "print(basics.isna().sum()/len(basics)*100)"
   ]
  },
  {
   "cell_type": "markdown",
   "id": "466c587a",
   "metadata": {},
   "source": [
    "##### Dropping column endYear since this primarily an investigation of movies"
   ]
  },
  {
   "cell_type": "code",
   "execution_count": 17,
   "id": "da0fa501",
   "metadata": {},
   "outputs": [],
   "source": [
    "basics.drop(['endYear'], axis=1, inplace=True)"
   ]
  },
  {
   "cell_type": "markdown",
   "id": "5bb26048",
   "metadata": {},
   "source": [
    "##### Eliminate movies that are null for runtimeMinutes"
   ]
  },
  {
   "cell_type": "code",
   "execution_count": 18,
   "id": "85cd3d49",
   "metadata": {},
   "outputs": [],
   "source": [
    "basics.dropna(subset=['runtimeMinutes'], inplace=True)"
   ]
  },
  {
   "cell_type": "markdown",
   "id": "c633151a",
   "metadata": {},
   "source": [
    "##### Eliminate movies that are null for genre"
   ]
  },
  {
   "cell_type": "code",
   "execution_count": 19,
   "id": "5a894d53",
   "metadata": {},
   "outputs": [],
   "source": [
    "basics.dropna(subset=['genres'], inplace=True)"
   ]
  },
  {
   "cell_type": "markdown",
   "id": "41490278",
   "metadata": {},
   "source": [
    "##### keep only titleType==movie"
   ]
  },
  {
   "cell_type": "code",
   "execution_count": 20,
   "id": "269aee6c",
   "metadata": {
    "scrolled": false
   },
   "outputs": [],
   "source": [
    "basics = basics[basics['titleType'] == 'movie']"
   ]
  },
  {
   "cell_type": "markdown",
   "id": "b9ad30f9",
   "metadata": {},
   "source": [
    "##### Eliminating NAN values for 'startYear'"
   ]
  },
  {
   "cell_type": "code",
   "execution_count": 21,
   "id": "3c17a0eb",
   "metadata": {},
   "outputs": [],
   "source": [
    "basics.dropna(subset=['startYear'], inplace=True)"
   ]
  },
  {
   "cell_type": "markdown",
   "id": "dc52be3b",
   "metadata": {},
   "source": [
    "##### NAN values resolved"
   ]
  },
  {
   "cell_type": "code",
   "execution_count": 22,
   "id": "0826035c",
   "metadata": {},
   "outputs": [
    {
     "name": "stdout",
     "output_type": "stream",
     "text": [
      "tconst            0.0\n",
      "titleType         0.0\n",
      "primaryTitle      0.0\n",
      "originalTitle     0.0\n",
      "isAdult           0.0\n",
      "startYear         0.0\n",
      "runtimeMinutes    0.0\n",
      "genres            0.0\n",
      "dtype: float64\n"
     ]
    }
   ],
   "source": [
    "print(basics.isna().sum()/len(basics)*100)"
   ]
  },
  {
   "cell_type": "markdown",
   "id": "73b44a26",
   "metadata": {},
   "source": [
    "##### Modifying Datatypes to conform to data dictionary"
   ]
  },
  {
   "cell_type": "code",
   "execution_count": 23,
   "id": "3d543169",
   "metadata": {},
   "outputs": [],
   "source": [
    "basics = basics.astype({\"tconst\":\"string\",\"titleType\":\"string\",\"primaryTitle\":\"string\",\"originalTitle\":\"string\", \"isAdult\":\"int\", \"startYear\":\"int\",\"runtimeMinutes\":\"int\", \"genres\":\"string\"})"
   ]
  },
  {
   "cell_type": "code",
   "execution_count": 24,
   "id": "3c0298d5",
   "metadata": {},
   "outputs": [
    {
     "data": {
      "text/plain": [
       "tconst            string\n",
       "titleType         string\n",
       "primaryTitle      string\n",
       "originalTitle     string\n",
       "isAdult            int32\n",
       "startYear          int32\n",
       "runtimeMinutes     int32\n",
       "genres            string\n",
       "dtype: object"
      ]
     },
     "execution_count": 24,
     "metadata": {},
     "output_type": "execute_result"
    }
   ],
   "source": [
    "basics.dtypes"
   ]
  },
  {
   "cell_type": "markdown",
   "id": "9008e7f0",
   "metadata": {},
   "source": [
    "##### keep startYear 2000-2022"
   ]
  },
  {
   "cell_type": "code",
   "execution_count": 25,
   "id": "1af1ab59",
   "metadata": {},
   "outputs": [],
   "source": [
    "basics = basics[(basics['startYear'] >= 2000) & (basics['startYear'] <= 2022)]"
   ]
  },
  {
   "cell_type": "markdown",
   "id": "dd73dad4",
   "metadata": {},
   "source": [
    "##### Eliminate movies that include \"Documentary\" in genre"
   ]
  },
  {
   "cell_type": "code",
   "execution_count": 26,
   "id": "166f4a95",
   "metadata": {},
   "outputs": [],
   "source": [
    "basics = basics[~basics['genres'].str.contains(r'documentary', case=False)]\n"
   ]
  },
  {
   "cell_type": "markdown",
   "id": "c5bf6fea",
   "metadata": {},
   "source": [
    "#### title.akas"
   ]
  },
  {
   "cell_type": "markdown",
   "id": "ab7f09c5",
   "metadata": {},
   "source": [
    "##### Find NAN Values"
   ]
  },
  {
   "cell_type": "code",
   "execution_count": 27,
   "id": "2969dd4a",
   "metadata": {},
   "outputs": [],
   "source": [
    "akas =akas.replace({'\\\\N':np.nan})"
   ]
  },
  {
   "cell_type": "markdown",
   "id": "b5629a6e",
   "metadata": {},
   "source": [
    "##### Filtering out all non US Films"
   ]
  },
  {
   "cell_type": "code",
   "execution_count": 28,
   "id": "362233b2",
   "metadata": {},
   "outputs": [],
   "source": [
    "akas = akas[akas['region'] == 'US']"
   ]
  },
  {
   "cell_type": "markdown",
   "id": "34b7a129",
   "metadata": {},
   "source": [
    "##### Evaluating NAN values in columns"
   ]
  },
  {
   "cell_type": "code",
   "execution_count": 29,
   "id": "ace69cd1",
   "metadata": {
    "scrolled": true
   },
   "outputs": [
    {
     "data": {
      "text/plain": [
       "titleId                  0\n",
       "ordering                 0\n",
       "title                    0\n",
       "region                   0\n",
       "language           1437744\n",
       "types               462005\n",
       "attributes         1395001\n",
       "isOriginalTitle       1345\n",
       "dtype: int64"
      ]
     },
     "execution_count": 29,
     "metadata": {},
     "output_type": "execute_result"
    }
   ],
   "source": [
    "akas.isna().sum()"
   ]
  },
  {
   "cell_type": "code",
   "execution_count": 30,
   "id": "ea97cea8",
   "metadata": {
    "scrolled": true
   },
   "outputs": [
    {
     "name": "stdout",
     "output_type": "stream",
     "text": [
      "titleId             0.000000\n",
      "ordering            0.000000\n",
      "title               0.000000\n",
      "region              0.000000\n",
      "language           99.726501\n",
      "types              32.046138\n",
      "attributes         96.761710\n",
      "isOriginalTitle     0.093293\n",
      "dtype: float64\n"
     ]
    }
   ],
   "source": [
    "print(akas.isna().sum()/len(akas)*100)"
   ]
  },
  {
   "cell_type": "markdown",
   "id": "6fc560d1",
   "metadata": {},
   "source": [
    "##### Dropping Columns Language and Attributes due to lack of data, as well as isOriginalTitle since it doesnt directly relate to investigation"
   ]
  },
  {
   "cell_type": "code",
   "execution_count": 31,
   "id": "f17c3d26",
   "metadata": {
    "scrolled": true
   },
   "outputs": [],
   "source": [
    "akas.drop(['language','attributes','isOriginalTitle'], axis=1, inplace=True)"
   ]
  },
  {
   "cell_type": "markdown",
   "id": "8c9031e7",
   "metadata": {},
   "source": [
    "##### Replacing NAN values with Unknown for types column"
   ]
  },
  {
   "cell_type": "code",
   "execution_count": 32,
   "id": "8bcf5028",
   "metadata": {
    "scrolled": true
   },
   "outputs": [],
   "source": [
    "type_of = 'unknown'\n",
    "akas['types'].fillna(value = type_of, inplace = True)"
   ]
  },
  {
   "cell_type": "markdown",
   "id": "0de3a3de",
   "metadata": {},
   "source": [
    "##### NAN Values Resolved"
   ]
  },
  {
   "cell_type": "code",
   "execution_count": 33,
   "id": "c87eeb0e",
   "metadata": {
    "scrolled": true
   },
   "outputs": [
    {
     "data": {
      "text/plain": [
       "titleId     0\n",
       "ordering    0\n",
       "title       0\n",
       "region      0\n",
       "types       0\n",
       "dtype: int64"
      ]
     },
     "execution_count": 33,
     "metadata": {},
     "output_type": "execute_result"
    }
   ],
   "source": [
    "akas.isna().sum()"
   ]
  },
  {
   "cell_type": "markdown",
   "id": "0d43c306",
   "metadata": {},
   "source": [
    "##### Modifying Datatypes to conform to Data Dictionary"
   ]
  },
  {
   "cell_type": "code",
   "execution_count": 34,
   "id": "65060630",
   "metadata": {
    "scrolled": true
   },
   "outputs": [],
   "source": [
    "akas = akas.astype({\"titleId\":\"string\",\"title\":\"string\",\"region\":\"string\",\"types\":\"string\"})"
   ]
  },
  {
   "cell_type": "code",
   "execution_count": 35,
   "id": "feef8e2b",
   "metadata": {
    "scrolled": true
   },
   "outputs": [
    {
     "data": {
      "text/plain": [
       "titleId     string\n",
       "ordering     int64\n",
       "title       string\n",
       "region      string\n",
       "types       string\n",
       "dtype: object"
      ]
     },
     "execution_count": 35,
     "metadata": {},
     "output_type": "execute_result"
    }
   ],
   "source": [
    "akas.dtypes"
   ]
  },
  {
   "cell_type": "markdown",
   "id": "e4ca99a6",
   "metadata": {},
   "source": [
    "#### title.ratings"
   ]
  },
  {
   "cell_type": "markdown",
   "id": "86780289",
   "metadata": {},
   "source": [
    "##### Find NAN Values"
   ]
  },
  {
   "cell_type": "code",
   "execution_count": 36,
   "id": "cb10df74",
   "metadata": {},
   "outputs": [],
   "source": [
    "ratings = ratings.replace({'\\\\N':np.nan})"
   ]
  },
  {
   "cell_type": "code",
   "execution_count": 37,
   "id": "a8fd31f5",
   "metadata": {
    "scrolled": false
   },
   "outputs": [
    {
     "data": {
      "text/plain": [
       "tconst           0\n",
       "averageRating    0\n",
       "numVotes         0\n",
       "dtype: int64"
      ]
     },
     "execution_count": 37,
     "metadata": {},
     "output_type": "execute_result"
    }
   ],
   "source": [
    "ratings.isna().sum()"
   ]
  },
  {
   "cell_type": "markdown",
   "id": "bb177f73",
   "metadata": {},
   "source": [
    "* No NAN values found"
   ]
  },
  {
   "cell_type": "markdown",
   "id": "618f77f4",
   "metadata": {},
   "source": [
    "##### Modifying Datatypes to conform to data dictionary"
   ]
  },
  {
   "cell_type": "code",
   "execution_count": 38,
   "id": "e98e2ea7",
   "metadata": {},
   "outputs": [],
   "source": [
    "ratings = ratings.astype({\"tconst\":\"string\"})"
   ]
  },
  {
   "cell_type": "code",
   "execution_count": 39,
   "id": "5d421db3",
   "metadata": {
    "scrolled": false
   },
   "outputs": [
    {
     "data": {
      "text/plain": [
       "tconst            string\n",
       "averageRating    float64\n",
       "numVotes           int64\n",
       "dtype: object"
      ]
     },
     "execution_count": 39,
     "metadata": {},
     "output_type": "execute_result"
    }
   ],
   "source": [
    "ratings.dtypes"
   ]
  },
  {
   "cell_type": "markdown",
   "id": "841101d9",
   "metadata": {},
   "source": [
    "#### Filtering for Title Basics with akas dataframe for US only"
   ]
  },
  {
   "cell_type": "code",
   "execution_count": 40,
   "id": "d0ec4071",
   "metadata": {
    "scrolled": true
   },
   "outputs": [
    {
     "data": {
      "text/plain": [
       "34803       True\n",
       "42384       True\n",
       "61115       True\n",
       "67668       True\n",
       "86800       True\n",
       "           ...  \n",
       "9900128     True\n",
       "9900137     True\n",
       "9900176    False\n",
       "9900221     True\n",
       "9900305    False\n",
       "Name: tconst, Length: 147654, dtype: bool"
      ]
     },
     "execution_count": 40,
     "metadata": {},
     "output_type": "execute_result"
    }
   ],
   "source": [
    "keepers1 =basics['tconst'].isin(akas['titleId'])\n",
    "keepers1"
   ]
  },
  {
   "cell_type": "code",
   "execution_count": 41,
   "id": "c5c7929d",
   "metadata": {
    "scrolled": true
   },
   "outputs": [
    {
     "data": {
      "text/html": [
       "<div>\n",
       "<style scoped>\n",
       "    .dataframe tbody tr th:only-of-type {\n",
       "        vertical-align: middle;\n",
       "    }\n",
       "\n",
       "    .dataframe tbody tr th {\n",
       "        vertical-align: top;\n",
       "    }\n",
       "\n",
       "    .dataframe thead th {\n",
       "        text-align: right;\n",
       "    }\n",
       "</style>\n",
       "<table border=\"1\" class=\"dataframe\">\n",
       "  <thead>\n",
       "    <tr style=\"text-align: right;\">\n",
       "      <th></th>\n",
       "      <th>tconst</th>\n",
       "      <th>titleType</th>\n",
       "      <th>primaryTitle</th>\n",
       "      <th>originalTitle</th>\n",
       "      <th>isAdult</th>\n",
       "      <th>startYear</th>\n",
       "      <th>runtimeMinutes</th>\n",
       "      <th>genres</th>\n",
       "    </tr>\n",
       "  </thead>\n",
       "  <tbody>\n",
       "    <tr>\n",
       "      <th>34803</th>\n",
       "      <td>tt0035423</td>\n",
       "      <td>movie</td>\n",
       "      <td>Kate &amp; Leopold</td>\n",
       "      <td>Kate &amp; Leopold</td>\n",
       "      <td>0</td>\n",
       "      <td>2001</td>\n",
       "      <td>118</td>\n",
       "      <td>Comedy,Fantasy,Romance</td>\n",
       "    </tr>\n",
       "    <tr>\n",
       "      <th>42384</th>\n",
       "      <td>tt0043139</td>\n",
       "      <td>movie</td>\n",
       "      <td>Life of a Beijing Policeman</td>\n",
       "      <td>Wo zhe yi bei zi</td>\n",
       "      <td>0</td>\n",
       "      <td>2013</td>\n",
       "      <td>120</td>\n",
       "      <td>Drama,History</td>\n",
       "    </tr>\n",
       "    <tr>\n",
       "      <th>61115</th>\n",
       "      <td>tt0062336</td>\n",
       "      <td>movie</td>\n",
       "      <td>The Tango of the Widower and Its Distorting Mi...</td>\n",
       "      <td>El tango del viudo y su espejo deformante</td>\n",
       "      <td>0</td>\n",
       "      <td>2020</td>\n",
       "      <td>70</td>\n",
       "      <td>Drama</td>\n",
       "    </tr>\n",
       "    <tr>\n",
       "      <th>67668</th>\n",
       "      <td>tt0069049</td>\n",
       "      <td>movie</td>\n",
       "      <td>The Other Side of the Wind</td>\n",
       "      <td>The Other Side of the Wind</td>\n",
       "      <td>0</td>\n",
       "      <td>2018</td>\n",
       "      <td>122</td>\n",
       "      <td>Drama</td>\n",
       "    </tr>\n",
       "    <tr>\n",
       "      <th>86800</th>\n",
       "      <td>tt0088751</td>\n",
       "      <td>movie</td>\n",
       "      <td>The Naked Monster</td>\n",
       "      <td>The Naked Monster</td>\n",
       "      <td>0</td>\n",
       "      <td>2005</td>\n",
       "      <td>100</td>\n",
       "      <td>Comedy,Horror,Sci-Fi</td>\n",
       "    </tr>\n",
       "    <tr>\n",
       "      <th>...</th>\n",
       "      <td>...</td>\n",
       "      <td>...</td>\n",
       "      <td>...</td>\n",
       "      <td>...</td>\n",
       "      <td>...</td>\n",
       "      <td>...</td>\n",
       "      <td>...</td>\n",
       "      <td>...</td>\n",
       "    </tr>\n",
       "    <tr>\n",
       "      <th>9899593</th>\n",
       "      <td>tt9914942</td>\n",
       "      <td>movie</td>\n",
       "      <td>Life Without Sara Amat</td>\n",
       "      <td>La vida sense la Sara Amat</td>\n",
       "      <td>0</td>\n",
       "      <td>2019</td>\n",
       "      <td>74</td>\n",
       "      <td>Drama</td>\n",
       "    </tr>\n",
       "    <tr>\n",
       "      <th>9899988</th>\n",
       "      <td>tt9915872</td>\n",
       "      <td>movie</td>\n",
       "      <td>The Last White Witch</td>\n",
       "      <td>My Girlfriend is a Wizard</td>\n",
       "      <td>0</td>\n",
       "      <td>2019</td>\n",
       "      <td>97</td>\n",
       "      <td>Comedy,Drama,Fantasy</td>\n",
       "    </tr>\n",
       "    <tr>\n",
       "      <th>9900128</th>\n",
       "      <td>tt9916170</td>\n",
       "      <td>movie</td>\n",
       "      <td>The Rehearsal</td>\n",
       "      <td>O Ensaio</td>\n",
       "      <td>0</td>\n",
       "      <td>2019</td>\n",
       "      <td>51</td>\n",
       "      <td>Drama</td>\n",
       "    </tr>\n",
       "    <tr>\n",
       "      <th>9900137</th>\n",
       "      <td>tt9916190</td>\n",
       "      <td>movie</td>\n",
       "      <td>Safeguard</td>\n",
       "      <td>Safeguard</td>\n",
       "      <td>0</td>\n",
       "      <td>2020</td>\n",
       "      <td>95</td>\n",
       "      <td>Action,Adventure,Thriller</td>\n",
       "    </tr>\n",
       "    <tr>\n",
       "      <th>9900221</th>\n",
       "      <td>tt9916362</td>\n",
       "      <td>movie</td>\n",
       "      <td>Coven</td>\n",
       "      <td>Akelarre</td>\n",
       "      <td>0</td>\n",
       "      <td>2020</td>\n",
       "      <td>92</td>\n",
       "      <td>Drama,History</td>\n",
       "    </tr>\n",
       "  </tbody>\n",
       "</table>\n",
       "<p>86788 rows × 8 columns</p>\n",
       "</div>"
      ],
      "text/plain": [
       "            tconst titleType  \\\n",
       "34803    tt0035423     movie   \n",
       "42384    tt0043139     movie   \n",
       "61115    tt0062336     movie   \n",
       "67668    tt0069049     movie   \n",
       "86800    tt0088751     movie   \n",
       "...            ...       ...   \n",
       "9899593  tt9914942     movie   \n",
       "9899988  tt9915872     movie   \n",
       "9900128  tt9916170     movie   \n",
       "9900137  tt9916190     movie   \n",
       "9900221  tt9916362     movie   \n",
       "\n",
       "                                              primaryTitle  \\\n",
       "34803                                       Kate & Leopold   \n",
       "42384                          Life of a Beijing Policeman   \n",
       "61115    The Tango of the Widower and Its Distorting Mi...   \n",
       "67668                           The Other Side of the Wind   \n",
       "86800                                    The Naked Monster   \n",
       "...                                                    ...   \n",
       "9899593                             Life Without Sara Amat   \n",
       "9899988                               The Last White Witch   \n",
       "9900128                                      The Rehearsal   \n",
       "9900137                                          Safeguard   \n",
       "9900221                                              Coven   \n",
       "\n",
       "                                     originalTitle  isAdult  startYear  \\\n",
       "34803                               Kate & Leopold        0       2001   \n",
       "42384                             Wo zhe yi bei zi        0       2013   \n",
       "61115    El tango del viudo y su espejo deformante        0       2020   \n",
       "67668                   The Other Side of the Wind        0       2018   \n",
       "86800                            The Naked Monster        0       2005   \n",
       "...                                            ...      ...        ...   \n",
       "9899593                 La vida sense la Sara Amat        0       2019   \n",
       "9899988                  My Girlfriend is a Wizard        0       2019   \n",
       "9900128                                   O Ensaio        0       2019   \n",
       "9900137                                  Safeguard        0       2020   \n",
       "9900221                                   Akelarre        0       2020   \n",
       "\n",
       "         runtimeMinutes                     genres  \n",
       "34803               118     Comedy,Fantasy,Romance  \n",
       "42384               120              Drama,History  \n",
       "61115                70                      Drama  \n",
       "67668               122                      Drama  \n",
       "86800               100       Comedy,Horror,Sci-Fi  \n",
       "...                 ...                        ...  \n",
       "9899593              74                      Drama  \n",
       "9899988              97       Comedy,Drama,Fantasy  \n",
       "9900128              51                      Drama  \n",
       "9900137              95  Action,Adventure,Thriller  \n",
       "9900221              92              Drama,History  \n",
       "\n",
       "[86788 rows x 8 columns]"
      ]
     },
     "execution_count": 41,
     "metadata": {},
     "output_type": "execute_result"
    }
   ],
   "source": [
    "basics = basics[keepers1]\n",
    "basics"
   ]
  },
  {
   "cell_type": "markdown",
   "id": "96267525",
   "metadata": {},
   "source": [
    "#### Filtering for ratings with akas dataframe for US only"
   ]
  },
  {
   "cell_type": "code",
   "execution_count": 42,
   "id": "12b0f90c",
   "metadata": {
    "scrolled": true
   },
   "outputs": [
    {
     "data": {
      "text/plain": [
       "0           True\n",
       "1           True\n",
       "2          False\n",
       "3          False\n",
       "4           True\n",
       "           ...  \n",
       "1318849    False\n",
       "1318850    False\n",
       "1318851    False\n",
       "1318852    False\n",
       "1318853    False\n",
       "Name: tconst, Length: 1318854, dtype: bool"
      ]
     },
     "execution_count": 42,
     "metadata": {},
     "output_type": "execute_result"
    }
   ],
   "source": [
    "keepers2 =ratings['tconst'].isin(akas['titleId'])\n",
    "keepers2"
   ]
  },
  {
   "cell_type": "code",
   "execution_count": 43,
   "id": "5d0355bc",
   "metadata": {
    "scrolled": true
   },
   "outputs": [
    {
     "data": {
      "text/html": [
       "<div>\n",
       "<style scoped>\n",
       "    .dataframe tbody tr th:only-of-type {\n",
       "        vertical-align: middle;\n",
       "    }\n",
       "\n",
       "    .dataframe tbody tr th {\n",
       "        vertical-align: top;\n",
       "    }\n",
       "\n",
       "    .dataframe thead th {\n",
       "        text-align: right;\n",
       "    }\n",
       "</style>\n",
       "<table border=\"1\" class=\"dataframe\">\n",
       "  <thead>\n",
       "    <tr style=\"text-align: right;\">\n",
       "      <th></th>\n",
       "      <th>tconst</th>\n",
       "      <th>averageRating</th>\n",
       "      <th>numVotes</th>\n",
       "    </tr>\n",
       "  </thead>\n",
       "  <tbody>\n",
       "    <tr>\n",
       "      <th>0</th>\n",
       "      <td>tt0000001</td>\n",
       "      <td>5.7</td>\n",
       "      <td>1977</td>\n",
       "    </tr>\n",
       "    <tr>\n",
       "      <th>1</th>\n",
       "      <td>tt0000002</td>\n",
       "      <td>5.8</td>\n",
       "      <td>264</td>\n",
       "    </tr>\n",
       "    <tr>\n",
       "      <th>4</th>\n",
       "      <td>tt0000005</td>\n",
       "      <td>6.2</td>\n",
       "      <td>2620</td>\n",
       "    </tr>\n",
       "    <tr>\n",
       "      <th>5</th>\n",
       "      <td>tt0000006</td>\n",
       "      <td>5.1</td>\n",
       "      <td>182</td>\n",
       "    </tr>\n",
       "    <tr>\n",
       "      <th>6</th>\n",
       "      <td>tt0000007</td>\n",
       "      <td>5.4</td>\n",
       "      <td>821</td>\n",
       "    </tr>\n",
       "    <tr>\n",
       "      <th>...</th>\n",
       "      <td>...</td>\n",
       "      <td>...</td>\n",
       "      <td>...</td>\n",
       "    </tr>\n",
       "    <tr>\n",
       "      <th>1318815</th>\n",
       "      <td>tt9916200</td>\n",
       "      <td>8.1</td>\n",
       "      <td>229</td>\n",
       "    </tr>\n",
       "    <tr>\n",
       "      <th>1318816</th>\n",
       "      <td>tt9916204</td>\n",
       "      <td>8.2</td>\n",
       "      <td>262</td>\n",
       "    </tr>\n",
       "    <tr>\n",
       "      <th>1318823</th>\n",
       "      <td>tt9916348</td>\n",
       "      <td>8.3</td>\n",
       "      <td>18</td>\n",
       "    </tr>\n",
       "    <tr>\n",
       "      <th>1318824</th>\n",
       "      <td>tt9916362</td>\n",
       "      <td>6.4</td>\n",
       "      <td>5367</td>\n",
       "    </tr>\n",
       "    <tr>\n",
       "      <th>1318829</th>\n",
       "      <td>tt9916428</td>\n",
       "      <td>3.8</td>\n",
       "      <td>14</td>\n",
       "    </tr>\n",
       "  </tbody>\n",
       "</table>\n",
       "<p>500784 rows × 3 columns</p>\n",
       "</div>"
      ],
      "text/plain": [
       "            tconst  averageRating  numVotes\n",
       "0        tt0000001            5.7      1977\n",
       "1        tt0000002            5.8       264\n",
       "4        tt0000005            6.2      2620\n",
       "5        tt0000006            5.1       182\n",
       "6        tt0000007            5.4       821\n",
       "...            ...            ...       ...\n",
       "1318815  tt9916200            8.1       229\n",
       "1318816  tt9916204            8.2       262\n",
       "1318823  tt9916348            8.3        18\n",
       "1318824  tt9916362            6.4      5367\n",
       "1318829  tt9916428            3.8        14\n",
       "\n",
       "[500784 rows x 3 columns]"
      ]
     },
     "execution_count": 43,
     "metadata": {},
     "output_type": "execute_result"
    }
   ],
   "source": [
    "ratings = ratings[keepers2]\n",
    "ratings"
   ]
  },
  {
   "cell_type": "markdown",
   "id": "a2360aba",
   "metadata": {},
   "source": [
    "### Saving modified dataframes to file for later use"
   ]
  },
  {
   "cell_type": "code",
   "execution_count": 44,
   "id": "f6dff651",
   "metadata": {},
   "outputs": [],
   "source": [
    "basics.to_csv(\"Data/title_basics1.csv.gz\",compression='gzip',index=False)\n",
    "akas.to_csv(\"Data/title_akas1.csv.gz\",compression='gzip',index=False)\n",
    "ratings.to_csv(\"Data/title_ratings1.csv.gz\",compression='gzip',index=False)"
   ]
  }
 ],
 "metadata": {
  "kernelspec": {
   "display_name": "Python (dojo-env)",
   "language": "python",
   "name": "dojo-env"
  },
  "language_info": {
   "codemirror_mode": {
    "name": "ipython",
    "version": 3
   },
   "file_extension": ".py",
   "mimetype": "text/x-python",
   "name": "python",
   "nbconvert_exporter": "python",
   "pygments_lexer": "ipython3",
   "version": "3.9.15"
  },
  "toc": {
   "base_numbering": 1,
   "nav_menu": {},
   "number_sections": false,
   "sideBar": true,
   "skip_h1_title": false,
   "title_cell": "Table of Contents",
   "title_sidebar": "Contents",
   "toc_cell": false,
   "toc_position": {},
   "toc_section_display": true,
   "toc_window_display": false
  }
 },
 "nbformat": 4,
 "nbformat_minor": 5
}
